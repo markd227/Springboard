{
 "cells": [
  {
   "cell_type": "markdown",
   "metadata": {},
   "source": [
    "This exercise will require you to pull some data from the Qunadl API. Qaundl is currently the most widely used aggregator of financial market data."
   ]
  },
  {
   "cell_type": "markdown",
   "metadata": {},
   "source": [
    "As a first step, you will need to register a free account on the http://www.quandl.com website."
   ]
  },
  {
   "cell_type": "markdown",
   "metadata": {},
   "source": [
    "After you register, you will be provided with a unique API key, that you should store:"
   ]
  },
  {
   "cell_type": "code",
   "execution_count": 1,
   "metadata": {},
   "outputs": [],
   "source": [
    "# Store the API key as a string - according to PEP8, constants are always named in all upper case\n",
    "API_KEY = 'uB8yxfS6qW2Qc3xNcd9z'"
   ]
  },
  {
   "cell_type": "markdown",
   "metadata": {},
   "source": [
    "Qaundl has a large number of data sources, but, unfortunately, most of them require a Premium subscription. Still, there are also a good number of free datasets."
   ]
  },
  {
   "cell_type": "markdown",
   "metadata": {},
   "source": [
    "For this mini project, we will focus on equities data from the Frankfurt Stock Exhange (FSE), which is available for free. We'll try and analyze the stock prices of a company called Carl Zeiss Meditec, which manufactures tools for eye examinations, as well as medical lasers for laser eye surgery: https://www.zeiss.com/meditec/int/home.html. The company is listed under the stock ticker AFX_X."
   ]
  },
  {
   "cell_type": "markdown",
   "metadata": {},
   "source": [
    "You can find the detailed Quandl API instructions here: https://docs.quandl.com/docs/time-series"
   ]
  },
  {
   "cell_type": "markdown",
   "metadata": {},
   "source": [
    "While there is a dedicated Python package for connecting to the Quandl API, we would prefer that you use the *requests* package, which can be easily downloaded using *pip* or *conda*. You can find the documentation for the package here: http://docs.python-requests.org/en/master/ "
   ]
  },
  {
   "cell_type": "markdown",
   "metadata": {},
   "source": [
    "Finally, apart from the *requests* package, you are encouraged to not use any third party Python packages, such as *pandas*, and instead focus on what's available in the Python Standard Library (the *collections* module might come in handy: https://pymotw.com/3/collections/ ).\n",
    "Also, since you won't have access to DataFrames, you are encouraged to us Python's native data structures - preferably dictionaries, though some questions can also be answered using lists.\n",
    "You can read more on these data structures here: https://docs.python.org/3/tutorial/datastructures.html"
   ]
  },
  {
   "cell_type": "markdown",
   "metadata": {},
   "source": [
    "Keep in mind that the JSON responses you will be getting from the API map almost one-to-one to Python's dictionaries. Unfortunately, they can be very nested, so make sure you read up on indexing dictionaries in the documentation provided above."
   ]
  },
  {
   "cell_type": "code",
   "execution_count": 2,
   "metadata": {},
   "outputs": [],
   "source": [
    "# First, import the relevant modules\n",
    "import requests\n",
    "import collections"
   ]
  },
  {
   "cell_type": "code",
   "execution_count": 3,
   "metadata": {},
   "outputs": [],
   "source": [
    "# Now, call the Quandl API and pull out a small sample of the data (only one day) to get a glimpse\n",
    "# into the JSON structure that will be returned\n",
    "params = dict(api_key=API_KEY, start_date='2018-01-02', end_date='2018-01-03')\n",
    "res = requests.get('https://www.quandl.com/api/v3/datasets/FSE/AFX_X/data.json', params)"
   ]
  },
  {
   "cell_type": "code",
   "execution_count": 4,
   "metadata": {},
   "outputs": [
    {
     "data": {
      "text/plain": [
       "{'dataset_data': {'limit': None,\n",
       "  'transform': None,\n",
       "  'column_index': None,\n",
       "  'column_names': ['Date',\n",
       "   'Open',\n",
       "   'High',\n",
       "   'Low',\n",
       "   'Close',\n",
       "   'Change',\n",
       "   'Traded Volume',\n",
       "   'Turnover',\n",
       "   'Last Price of the Day',\n",
       "   'Daily Traded Units',\n",
       "   'Daily Turnover'],\n",
       "  'start_date': '2018-01-02',\n",
       "  'end_date': '2018-01-03',\n",
       "  'frequency': 'daily',\n",
       "  'data': [['2018-01-02',\n",
       "    52.05,\n",
       "    52.4,\n",
       "    51.2,\n",
       "    51.4,\n",
       "    None,\n",
       "    54435.0,\n",
       "    2807533.0,\n",
       "    None,\n",
       "    None,\n",
       "    None]],\n",
       "  'collapse': None,\n",
       "  'order': None}}"
      ]
     },
     "execution_count": 4,
     "metadata": {},
     "output_type": "execute_result"
    }
   ],
   "source": [
    "# Inspect the JSON structure of the object you created, and take note of how nested it is,\n",
    "# as well as the overall structure\n",
    "res.json()"
   ]
  },
  {
   "cell_type": "markdown",
   "metadata": {},
   "source": [
    "These are your tasks for this mini project:\n",
    "\n",
    "1. Collect data from the Franfurt Stock Exchange, for the ticker AFX_X, for the whole year 2017 (keep in mind that the date format is YYYY-MM-DD).\n",
    "2. Convert the returned JSON object into a Python dictionary.\n",
    "3. Calculate what the highest and lowest opening prices were for the stock in this period.\n",
    "4. What was the largest change in any one day (based on High and Low price)?\n",
    "5. What was the largest change between any two days (based on Closing Price)?\n",
    "6. What was the average daily trading volume during this year?\n",
    "7. (Optional) What was the median trading volume during this year. (Note: you may need to implement your own function for calculating the median.)"
   ]
  },
  {
   "cell_type": "code",
   "execution_count": 5,
   "metadata": {},
   "outputs": [],
   "source": [
    "# 1: Collect data for AFX_X for the year 2017\n",
    "\n",
    "# Define parameters\n",
    "params = dict(api_key=API_KEY, start_date='2017-01-01', end_date='2017-12-31')\n",
    "\n",
    "# Requests get call to Quandl \n",
    "res = requests.get('https://www.quandl.com/api/v3/datasets/FSE/AFX_X/data.json', params)"
   ]
  },
  {
   "cell_type": "code",
   "execution_count": 6,
   "metadata": {},
   "outputs": [],
   "source": [
    "# 2: Convert results to dict\n",
    "dct = dict(res.json())"
   ]
  },
  {
   "cell_type": "code",
   "execution_count": 7,
   "metadata": {},
   "outputs": [
    {
     "name": "stdout",
     "output_type": "stream",
     "text": [
      "Highest open: $53.11\n",
      "Lowest open: $34.0\n"
     ]
    }
   ],
   "source": [
    "# 3: Find highest opening price during 2017\n",
    "\n",
    "# Extract a list of all the opening prices and filter out None values\n",
    "opening_prices = [x[1] for x in dct['dataset_data']['data'] if x[1]] \n",
    "    \n",
    "# Find highest opening price\n",
    "high = max(opening_prices)\n",
    "\n",
    "# Find lowest opening price\n",
    "low = min(opening_prices)\n",
    "\n",
    "print(\"Highest open: ${}\\nLowest open: ${}\".format(high, low))"
   ]
  },
  {
   "cell_type": "code",
   "execution_count": 8,
   "metadata": {},
   "outputs": [
    {
     "name": "stdout",
     "output_type": "stream",
     "text": [
      "Biggest daily price change: $2.81\n"
     ]
    }
   ],
   "source": [
    "# 4: Find largest difference from daily high to low\n",
    "\n",
    "# Extract out daily difference between high and low\n",
    "price_changes = [x[2]-x[3] for x in dct['dataset_data']['data']]\n",
    "\n",
    "# Find biggest daily change and print\n",
    "biggest_change = max(price_changes)\n",
    "print(\"Biggest daily price change: ${:.2f}\".format(biggest_change))"
   ]
  },
  {
   "cell_type": "code",
   "execution_count": 9,
   "metadata": {},
   "outputs": [
    {
     "name": "stdout",
     "output_type": "stream",
     "text": [
      "Biggest day-to-day price change: $2.56\n"
     ]
    }
   ],
   "source": [
    "# 5: Find largest change between two days (by closing price)\n",
    "\n",
    "# Extract out closing prices\n",
    "closing_prices = [x[4] for x in dct['dataset_data']['data']]\n",
    "\n",
    "# Calculate differences between days\n",
    "daily_diffs = [closing_prices[i+1] - closing_prices[i] for i in range(len(closing_prices)-1)]\n",
    "\n",
    "# Find biggest daily difference and print\n",
    "biggest_daily_diff = max(daily_diffs)\n",
    "print('Biggest day-to-day price change: ${:.2f}'.format(biggest_daily_diff))"
   ]
  },
  {
   "cell_type": "code",
   "execution_count": 10,
   "metadata": {},
   "outputs": [
    {
     "name": "stdout",
     "output_type": "stream",
     "text": [
      "Average daily trading volume: 89124\n"
     ]
    }
   ],
   "source": [
    "# 6: Find the average daily trading volume for the year\n",
    "\n",
    "# Extract list of daily trading volumes\n",
    "trading_volumes = [x[6] for x in dct['dataset_data']['data']]\n",
    "\n",
    "# Define function to find the mean of a list of numbers\n",
    "def mean(nums):\n",
    "    \"\"\"Takes in a list of numbers and returns the arithmetic mean.\"\"\"\n",
    "    return sum(nums) / len(nums)\n",
    "    \n",
    "# Find average daily volume and print\n",
    "avg_volume = mean(trading_volumes)\n",
    "print('Average daily trading volume: {:.0f}'.format(avg_volume))"
   ]
  },
  {
   "cell_type": "code",
   "execution_count": 11,
   "metadata": {},
   "outputs": [
    {
     "name": "stdout",
     "output_type": "stream",
     "text": [
      "Median daily trading volume: 76286\n"
     ]
    }
   ],
   "source": [
    "# 7: Find the median daily trading volume\n",
    "\n",
    "# Define median function\n",
    "def median(nums):\n",
    "    \"\"\"Takes in an unordered list of numbers and returns the median.\"\"\"\n",
    "    # Sort list in ascending order\n",
    "    sort = sorted(nums)\n",
    "    # If length of list is even, median is the mean of middle two values\n",
    "    if len(sort) % 2 == 0:\n",
    "        return sort[(len(sort)//2 + sort[(len(sort)//2-1)])/2]\n",
    "    # If length of list is odd, return the middle value\n",
    "    else:\n",
    "        return sort[len(sort)//2]\n",
    "\n",
    "# Find the median of trading volume and print\n",
    "middle = median(trading_volumes)\n",
    "print('Median daily trading volume: {:.0f}'.format(middle))"
   ]
  }
 ],
 "metadata": {
  "kernelspec": {
   "display_name": "Python 3",
   "language": "python",
   "name": "python3"
  },
  "language_info": {
   "codemirror_mode": {
    "name": "ipython",
    "version": 3
   },
   "file_extension": ".py",
   "mimetype": "text/x-python",
   "name": "python",
   "nbconvert_exporter": "python",
   "pygments_lexer": "ipython3",
   "version": "3.7.6"
  }
 },
 "nbformat": 4,
 "nbformat_minor": 2
}
