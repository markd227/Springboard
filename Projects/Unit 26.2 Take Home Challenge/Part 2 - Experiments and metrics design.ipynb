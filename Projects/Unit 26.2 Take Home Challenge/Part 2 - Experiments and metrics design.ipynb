{
 "cells": [
  {
   "cell_type": "markdown",
   "metadata": {},
   "source": [
    "# Part 2 ‑ Experiment and metrics design\n",
    "\n",
    "The neighboring cities of Gotham and Metropolis have complementary circadian rhythms: on\n",
    "weekdays, Ultimate Gotham is most active at night, and Ultimate Metropolis is most active\n",
    "during the day. On weekends, there is reasonable activity in both cities.\n",
    "However, a toll bridge, with a two way\n",
    "toll, between the two cities causes driver partners to tend\n",
    "to be exclusive to each city. The Ultimate managers of city operations for the two cities have\n",
    "proposed an experiment to encourage driver partners to be available in both cities, by\n",
    "reimbursing all toll costs.\n",
    "\n",
    "1. What would you choose as the key measure of success of this experiment in\n",
    "encouraging driver partners to serve both cities, and why would you choose this metric?\n",
    "\n",
    "2. Describe a practical experiment you would design to compare the effectiveness of the\n",
    "proposed change in relation to the key measure of success. Please provide details on:<br>\n",
    "    a. how you will implement the experiment<br>\n",
    "    b. what statistical test(s) you will conduct to verify the significance of the observation<br>\n",
    "    c. how you would interpret the results and provide recommendations to the city operations team along with any caveats."
   ]
  },
  {
   "cell_type": "markdown",
   "metadata": {},
   "source": [
    "## 1 - Key Measure of Success\n",
    "\n",
    "I would utilize a metric that measures the percentage of driver partners that have pick ups on both sides of the bridge - both before and after implementing the change.\n",
    "\n",
    "That would provide a very direct measure of the impact our change has on the habits of our driver partners due to our toll reimbursements."
   ]
  },
  {
   "cell_type": "markdown",
   "metadata": {},
   "source": [
    "## 2 - Experiment Design\n",
    "\n",
    "I would randomly split up drivers into two groups so that some are given reimbursements for tolls across the bridge and the rest serve as a control group where tolls are not reimbursed.\n",
    "\n",
    "To verify the significance of these results I would use a one-sided p-test.\n",
    "\n",
    "Assuming the p-test implicated statistical significance from the change, I would recommend the city operations team implement the toll reimbursement program to help improve the metric of driver partners more frequently crossing the toll bridge."
   ]
  }
 ],
 "metadata": {
  "kernelspec": {
   "display_name": "Python 3",
   "language": "python",
   "name": "python3"
  },
  "language_info": {
   "codemirror_mode": {
    "name": "ipython",
    "version": 3
   },
   "file_extension": ".py",
   "mimetype": "text/x-python",
   "name": "python",
   "nbconvert_exporter": "python",
   "pygments_lexer": "ipython3",
   "version": "3.7.6"
  }
 },
 "nbformat": 4,
 "nbformat_minor": 4
}
